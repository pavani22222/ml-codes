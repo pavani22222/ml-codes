{
 "cells": [
  {
   "cell_type": "code",
   "execution_count": 4,
   "id": "d08e512c",
   "metadata": {},
   "outputs": [
    {
     "data": {
      "image/png": "[encoded data removed]",
      "text/plain": [
       "<Figure size 640x480 with 1 Axes>"
      ]
     },
     "metadata": {},
     "output_type": "display_data"
    },
    {
     "name": "stdout",
     "output_type": "stream",
     "text": [
      "Best k for maximum accuracy: 1\n",
      "Final Accuracy: 0.5\n",
      "Confusion Matrix:\n",
      "[[0. 1.]\n",
      " [0. 1.]]\n"
     ]
    }
   ],
   "source": [
    "import numpy as np\n",
    "\n",
    "# Step a: Load an existing dataset (for demonstration, we'll use a simple dataset)\n",
    "def load_dataset():\n",
    "    # Dummy dataset for demonstration\n",
    "    X = np.array([[1, 2], [2, 3], [3, 4], [4, 5], [5, 6], [6, 7]])\n",
    "    y = np.array([0, 0, 1, 1, 1, 0])  # Binary classification labels\n",
    "    return X, y\n",
    "\n",
    "# Step b: Split the dataset into train and test sets\n",
    "def train_test_split(X, y, test_size=0.2):\n",
    "    split_idx = int((1 - test_size) * len(X))\n",
    "    X_train, X_test = X[:split_idx], X[split_idx:]\n",
    "    y_train, y_test = y[:split_idx], y[split_idx:]\n",
    "    return X_train, X_test, y_train, y_test\n",
    "\n",
    "# Step c: Implement K-NN Classifier\n",
    "def euclidean_distance(x1, x2):\n",
    "    return np.sqrt(np.sum((x1 - x2)**2))\n",
    "\n",
    "def predict(X_train, y_train, x_test, k):\n",
    "    distances = [euclidean_distance(x_test, x_train) for x_train in X_train]\n",
    "    k_indices = np.argsort(distances)[:k]\n",
    "    k_nearest_labels = [y_train[i] for i in k_indices]\n",
    "    most_common = np.argmax(np.bincount(k_nearest_labels))\n",
    "    return most_common\n",
    "\n",
    "def accuracy(y_true, y_pred):\n",
    "    accuracy = np.sum(y_true == y_pred) / len(y_true)\n",
    "    return accuracy\n",
    "\n",
    "def confusion_matrix(y_true, y_pred):\n",
    "    num_classes = len(np.unique(y_true))\n",
    "    matrix = np.zeros((num_classes, num_classes))\n",
    "    for i in range(len(y_true)):\n",
    "        matrix[y_true[i], y_pred[i]] += 1\n",
    "    return matrix\n",
    "\n",
    "# Step d: Find the effect of the value of K on accuracy/performance\n",
    "def knn_classifier(X_train, X_test, y_train, y_test, k_values):\n",
    "    accuracies = []\n",
    "    for k in k_values:\n",
    "        y_pred = [predict(X_train, y_train, x_test, k) for x_test in X_test]\n",
    "        acc = accuracy(y_test, y_pred)\n",
    "        accuracies.append(acc)\n",
    "    return accuracies\n",
    "\n",
    "# Utility function to plot k vs accuracy curve\n",
    "import matplotlib.pyplot as plt\n",
    "\n",
    "def plot_k_vs_accuracy(k_values, accuracies):\n",
    "    plt.plot(k_values, accuracies, marker='o')\n",
    "    plt.title('k vs Accuracy')\n",
    "    plt.xlabel('k')\n",
    "    plt.ylabel('Accuracy')\n",
    "    plt.show()\n",
    "\n",
    "# Now let's put it all together\n",
    "if __name__ == \"__main__\":\n",
    "    X, y = load_dataset()\n",
    "    X_train, X_test, y_train, y_test = train_test_split(X, y, test_size=0.2)\n",
    "\n",
    "    k_values = range(1, 6)  # Try k values from 1 to 5\n",
    "    accuracies = knn_classifier(X_train, X_test, y_train, y_test, k_values)\n",
    "    plot_k_vs_accuracy(k_values, accuracies)\n",
    "\n",
    "    best_k = k_values[np.argmax(accuracies)]\n",
    "    print(\"Best k for maximum accuracy:\", best_k)\n",
    "\n",
    "    # Retrain with best k and get final accuracy and confusion matrix\n",
    "    y_pred = [predict(X_train, y_train, x_test, best_k) for x_test in X_test]\n",
    "    final_accuracy = accuracy(y_test, y_pred)\n",
    "    print(\"Final Accuracy:\", final_accuracy)\n",
    "    print(\"Confusion Matrix:\")\n",
    "    print(confusion_matrix(y_test, y_pred))"
   ]
  },
  {
   "cell_type": "code",
   "execution_count": null,
   "id": "18b31f19",
   "metadata": {},
   "outputs": [],
   "source": []
  }
 ],
 "metadata": {
  "kernelspec": {
   "display_name": "Python 3 (ipykernel)",
   "language": "python",
   "name": "python3"
  },
  "language_info": {
   "codemirror_mode": {
    "name": "ipython",
    "version": 3
   },
   "file_extension": ".py",
   "mimetype": "text/x-python",
   "name": "python",
   "nbconvert_exporter": "python",
   "pygments_lexer": "ipython3",
   "version": "3.7.5"
  }
 },
 "nbformat": 4,
 "nbformat_minor": 5
}
