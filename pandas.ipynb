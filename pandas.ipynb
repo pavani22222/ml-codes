{
 "cells": [
  {
   "cell_type": "code",
   "execution_count": 1,
   "id": "27319609",
   "metadata": {},
   "outputs": [
    {
     "name": "stdout",
     "output_type": "stream",
     "text": [
      "Original Series:\n",
      "0       [1, 2, 3]\n",
      "1          [4, 5]\n",
      "2    [6, 7, 8, 9]\n",
      "dtype: object\n",
      "\n",
      "Converted Series:\n",
      "0    1\n",
      "0    2\n",
      "0    3\n",
      "1    4\n",
      "1    5\n",
      "2    6\n",
      "2    7\n",
      "2    8\n",
      "2    9\n",
      "dtype: object\n"
     ]
    }
   ],
   "source": [
    "import pandas as pd\n",
    "data = pd.Series([[1, 2, 3], [4, 5], [6, 7, 8, 9]])\n",
    "converted_series = data.explode()\n",
    "print(\"Original Series:\")\n",
    "print(data)\n",
    "print(\"\\nConverted Series:\")\n",
    "print(converted_series)"
   ]
  },
  {
   "cell_type": "code",
   "execution_count": 2,
   "id": "94e1942c",
   "metadata": {},
   "outputs": [
    {
     "name": "stdout",
     "output_type": "stream",
     "text": [
      "Original Series:\n",
      "0    10\n",
      "1    20\n",
      "2    30\n",
      "3    40\n",
      "4    50\n",
      "5    60\n",
      "6    70\n",
      "7    80\n",
      "dtype: int64\n",
      "\n",
      "Subset Series based on condition (values > 30):\n",
      "3    40\n",
      "4    50\n",
      "5    60\n",
      "6    70\n",
      "7    80\n",
      "dtype: int64\n"
     ]
    }
   ],
   "source": [
    "import pandas as pd\n",
    "data = pd.Series([10, 20, 30, 40, 50, 60, 70, 80])\n",
    "condition = data > 30\n",
    "subset = data[condition]\n",
    "print(\"Original Series:\")\n",
    "print(data)\n",
    "print(\"\\nSubset Series based on condition (values > 30):\")\n",
    "print(subset)"
   ]
  },
  {
   "cell_type": "code",
   "execution_count": 3,
   "id": "a5f26a8d",
   "metadata": {},
   "outputs": [
    {
     "name": "stdout",
     "output_type": "stream",
     "text": [
      "Original Series:\n",
      "0     Other\n",
      "1     Other\n",
      "2     Other\n",
      "3     Other\n",
      "4     Other\n",
      "5     Other\n",
      "6     Other\n",
      "7         5\n",
      "8         5\n",
      "9         5\n",
      "10        5\n",
      "dtype: object\n"
     ]
    }
   ],
   "source": [
    "import pandas as pd\n",
    "data = pd.Series([1, 2, 3, 3, 4, 4, 4, 5, 5, 5, 5])\n",
    "most_frequent_value = data.mode()[0]\n",
    "data[data != most_frequent_value] = \"Other\"\n",
    "print(\"Original Series:\")\n",
    "print(data)"
   ]
  },
  {
   "cell_type": "code",
   "execution_count": 4,
   "id": "5a28944b",
   "metadata": {},
   "outputs": [
    {
     "name": "stdout",
     "output_type": "stream",
     "text": [
      "Original Series:\n",
      "0    10\n",
      "1     5\n",
      "2     3\n",
      "3    25\n",
      "4    15\n",
      "5    30\n",
      "6     8\n",
      "7    20\n",
      "8     7\n",
      "9    45\n",
      "dtype: int64\n",
      "\n",
      "Positions of numbers that are multiples of 5:\n",
      "Int64Index([0, 1, 3, 4, 5, 7, 9], dtype='int64')\n"
     ]
    }
   ],
   "source": [
    "import pandas as pd\n",
    "data = pd.Series([10, 5, 3, 25, 15, 30, 8, 20, 7, 45])\n",
    "positions = data[data % 5 == 0].index\n",
    "print(\"Original Series:\")\n",
    "print(data)\n",
    "print(\"\\nPositions of numbers that are multiples of 5:\")\n",
    "print(positions)\n"
   ]
  },
  {
   "cell_type": "code",
   "execution_count": 5,
   "id": "541e0875",
   "metadata": {},
   "outputs": [
    {
     "name": "stdout",
     "output_type": "stream",
     "text": [
      "Original Series:\n",
      "0     apple\n",
      "1    banana\n",
      "2    orange\n",
      "3      kiwi\n",
      "4     grape\n",
      "dtype: object\n",
      "\n",
      "Number of characters in each word:\n",
      "0    5\n",
      "1    6\n",
      "2    6\n",
      "3    4\n",
      "4    5\n",
      "dtype: int64\n"
     ]
    }
   ],
   "source": [
    "import pandas as pd\n",
    "data = pd.Series(['apple', 'banana', 'orange', 'kiwi', 'grape'])\n",
    "word_lengths = data.apply(lambda x: len(x))\n",
    "print(\"Original Series:\")\n",
    "print(data)\n",
    "print(\"\\nNumber of characters in each word:\")\n",
    "print(word_lengths)"
   ]
  },
  {
   "cell_type": "code",
   "execution_count": 6,
   "id": "1251c7fb",
   "metadata": {},
   "outputs": [
    {
     "name": "stdout",
     "output_type": "stream",
     "text": [
      "Year-Month Strings:\n",
      "['2023-01', '2023-02', '2023-03']\n",
      "\n",
      "Dates with Specified Day (15):\n",
      "DatetimeIndex(['2023-01-15', '2023-02-15', '2023-03-15'], dtype='datetime64[ns]', freq=None)\n"
     ]
    }
   ],
   "source": [
    "import pandas as pd\n",
    "year_month_strings = ['2023-01', '2023-02', '2023-03']\n",
    "specified_day = 15\n",
    "dates_with_specified_day = pd.to_datetime(year_month_strings) + pd.to_timedelta(specified_day - 1, unit='D')\n",
    "print(\"Year-Month Strings:\")\n",
    "print(year_month_strings)\n",
    "print(\"\\nDates with Specified Day ({}):\".format(specified_day))\n",
    "print(dates_with_specified_day)"
   ]
  },
  {
   "cell_type": "code",
   "execution_count": 1,
   "id": "0a79e62a",
   "metadata": {},
   "outputs": [
    {
     "name": "stdout",
     "output_type": "stream",
     "text": [
      "DataFrame:\n",
      "           Name  Age      City\n",
      "Person 1   John   28  New York\n",
      "Person 2   Anna   34     Paris\n",
      "Person 3  Peter   29    Berlin\n",
      "Person 4  Linda   42    London\n"
     ]
    }
   ],
   "source": [
    "import pandas as pd\n",
    "data = {'Name': ['John', 'Anna', 'Peter', 'Linda'],\n",
    "        'Age': [28, 34, 29, 42],\n",
    "        'City': ['New York', 'Paris', 'Berlin', 'London']}\n",
    "index_labels = ['Person 1', 'Person 2', 'Person 3', 'Person 4']\n",
    "df = pd.DataFrame(data, index=index_labels)\n",
    "print(\"DataFrame:\")\n",
    "print(df)"
   ]
  },
  {
   "cell_type": "code",
   "execution_count": 2,
   "id": "c97b2aed",
   "metadata": {},
   "outputs": [
    {
     "name": "stdout",
     "output_type": "stream",
     "text": [
      "Rows where the number of attempts is greater than 2:\n",
      "    Name  Attempts  Score\n",
      "0   John         3     70\n",
      "2  Peter         4     90\n"
     ]
    }
   ],
   "source": [
    "import pandas as pd\n",
    "data = {'Name': ['John', 'Anna', 'Peter', 'Linda'],\n",
    "        'Attempts': [3, 1, 4, 2],\n",
    "        'Score': [70, 85, 90, 80]}\n",
    "df = pd.DataFrame(data)\n",
    "selected_rows = df[df['Attempts'] > 2]\n",
    "print(\"Rows where the number of attempts is greater than 2:\")\n",
    "print(selected_rows)"
   ]
  },
  {
   "cell_type": "code",
   "execution_count": 3,
   "id": "7b5f7a17",
   "metadata": {},
   "outputs": [
    {
     "name": "stdout",
     "output_type": "stream",
     "text": [
      "DataFrame after appending new row 'k':\n",
      "    Name  Attempts  Score\n",
      "0   John         3     70\n",
      "1   Anna         1     85\n",
      "2  Peter         4     90\n",
      "3  Linda         2     80\n",
      "4  David         5     95\n",
      "\n",
      "DataFrame after deleting the new row 'k':\n",
      "    Name  Attempts  Score\n",
      "0   John         3     70\n",
      "1   Anna         1     85\n",
      "2  Peter         4     90\n",
      "3  Linda         2     80\n"
     ]
    }
   ],
   "source": [
    "import pandas as pd\n",
    "data = {'Name': ['John', 'Anna', 'Peter', 'Linda'],\n",
    "        'Attempts': [3, 1, 4, 2],\n",
    "        'Score': [70, 85, 90, 80]}\n",
    "df = pd.DataFrame(data)\n",
    "new_row_values = {'Name': 'David', 'Attempts': 5, 'Score': 95}\n",
    "df = df.append(new_row_values, ignore_index=True)\n",
    "print(\"DataFrame after appending new row 'k':\")\n",
    "print(df)\n",
    "df = df.drop(df.index[-1])\n",
    "print(\"\\nDataFrame after deleting the new row 'k':\")\n",
    "print(df)"
   ]
  },
  {
   "cell_type": "code",
   "execution_count": 4,
   "id": "dedfc6a5",
   "metadata": {},
   "outputs": [
    {
     "name": "stdout",
     "output_type": "stream",
     "text": [
      "Sorted DataFrame:\n",
      "    Name  Attempts  Score\n",
      "2  Peter         4     90\n",
      "3  Linda         2     80\n",
      "0   John         3     70\n",
      "4  David         5     95\n",
      "1   Anna         1     85\n"
     ]
    }
   ],
   "source": [
    "import pandas as pd\n",
    "data = {'Name': ['John', 'Anna', 'Peter', 'Linda', 'David'],\n",
    "        'Attempts': [3, 1, 4, 2, 5],\n",
    "        'Score': [70, 85, 90, 80, 95]}\n",
    "df = pd.DataFrame(data)\n",
    "sorted_df = df.sort_values(by=['Name', 'Score'], ascending=[False, True])\n",
    "print(\"Sorted DataFrame:\")\n",
    "print(sorted_df)"
   ]
  },
  {
   "cell_type": "code",
   "execution_count": 5,
   "id": "2819f48f",
   "metadata": {},
   "outputs": [
    {
     "name": "stdout",
     "output_type": "stream",
     "text": [
      "DataFrame after replacing 'yes' and 'no' with True and False:\n",
      "    Name  Qualify  Score\n",
      "0   John     True     70\n",
      "1   Anna    False     85\n",
      "2  Peter     True     90\n",
      "3  Linda    False     80\n"
     ]
    }
   ],
   "source": [
    "import pandas as pd\n",
    "data = {'Name': ['John', 'Anna', 'Peter', 'Linda'],\n",
    "        'Qualify': ['yes', 'no', 'yes', 'no'],\n",
    "        'Score': [70, 85, 90, 80]}\n",
    "df = pd.DataFrame(data)\n",
    "df['Qualify'] = df['Qualify'].replace({'yes': True, 'no': False})\n",
    "print(\"DataFrame after replacing 'yes' and 'no' with True and False:\")\n",
    "print(df)"
   ]
  },
  {
   "cell_type": "code",
   "execution_count": 6,
   "id": "9f59756a",
   "metadata": {},
   "outputs": [
    {
     "name": "stdout",
     "output_type": "stream",
     "text": [
      "     A    B  C\n",
      "1  2.0  2.0  2\n",
      "3  4.0  4.0  4\n"
     ]
    }
   ],
   "source": [
    "import pandas as pd\n",
    "import numpy as np\n",
    "data = {'A': [1, 2, np.inf, 4, 5],\n",
    "        'B': [np.inf, 2, 3, 4, np.inf],\n",
    "        'C': [1, 2, 3, 4, 5]}\n",
    "df = pd.DataFrame(data)\n",
    "df = df.replace([np.inf, -np.inf], np.nan).dropna()\n",
    "print(df)"
   ]
  },
  {
   "cell_type": "code",
   "execution_count": null,
   "id": "32d20f73",
   "metadata": {},
   "outputs": [],
   "source": []
  }
 ],
 "metadata": {
  "kernelspec": {
   "display_name": "Python 3 (ipykernel)",
   "language": "python",
   "name": "python3"
  },
  "language_info": {
   "codemirror_mode": {
    "name": "ipython",
    "version": 3
   },
   "file_extension": ".py",
   "mimetype": "text/x-python",
   "name": "python",
   "nbconvert_exporter": "python",
   "pygments_lexer": "ipython3",
   "version": "3.7.5"
  }
 },
 "nbformat": 4,
 "nbformat_minor": 5
}
