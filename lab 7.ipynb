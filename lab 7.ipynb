{
 "cells": [
  {
   "cell_type": "code",
   "execution_count": 1,
   "id": "990e4123",
   "metadata": {},
   "outputs": [
    {
     "name": "stdout",
     "output_type": "stream",
     "text": [
      "Sample Vector: [0.78551987 0.33888289 0.44389318 0.41388987 0.03936443 0.5166779\n",
      " 0.52110932 0.15224988 0.37068782 0.89936061]\n",
      "Mean of the sample vector: 0.4481635751260276\n",
      "Variance of the sample vector: 0.060122266883397946\n"
     ]
    }
   ],
   "source": [
    "import numpy as np\n",
    "\n",
    "def compute_mean_and_variance(arr):\n",
    "    mean = np.mean(arr)\n",
    "    variance = np.var(arr)\n",
    "    return mean, variance\n",
    "\n",
    "# Example usage\n",
    "N = 10  # Dimensionality of the feature vector\n",
    "sample_vector = np.random.rand(N)  # Generating a random sample vector\n",
    "mean, variance = compute_mean_and_variance(sample_vector)\n",
    "\n",
    "print(\"Sample Vector:\", sample_vector)\n",
    "print(\"Mean of the sample vector:\", mean)\n",
    "print(\"Variance of the sample vector:\", variance)\n"
   ]
  },
  {
   "cell_type": "code",
   "execution_count": 2,
   "id": "1312841d",
   "metadata": {},
   "outputs": [
    {
     "name": "stdout",
     "output_type": "stream",
     "text": [
      "Sample Vector 1: [[0.32851831 0.2350699  0.99109961 0.83253394 0.0543707 ]]\n",
      "Sample Vector 2: [[0.0442182  0.43602637 0.63435099 0.57377438 0.17039644]]\n",
      "Covariance between the two vectors: 0.08125235086472213\n"
     ]
    }
   ],
   "source": [
    "import numpy as np\n",
    "\n",
    "def compute_covariance(vector1, vector2):\n",
    "    covariance = np.cov(vector1, vector2)\n",
    "    return covariance[0, 1]  # Extracting the covariance value between vector1 and vector2\n",
    "\n",
    "# Example usage\n",
    "M = 5  # Dimensionality of the feature vectors\n",
    "sample_vector1 = np.random.rand(1, M)  # Generating a random sample vector 1\n",
    "sample_vector2 = np.random.rand(1, M)  # Generating a random sample vector 2\n",
    "covariance = compute_covariance(sample_vector1, sample_vector2)\n",
    "\n",
    "print(\"Sample Vector 1:\", sample_vector1)\n",
    "print(\"Sample Vector 2:\", sample_vector2)\n",
    "print(\"Covariance between the two vectors:\", covariance)\n"
   ]
  },
  {
   "cell_type": "code",
   "execution_count": 3,
   "id": "90b49cda",
   "metadata": {},
   "outputs": [
    {
     "name": "stdout",
     "output_type": "stream",
     "text": [
      "Vector 1: [[0.20657852 0.8855176  0.17863312 0.00566857 0.84153409 0.48822268\n",
      "  0.72795196 0.8255093 ]]\n",
      "Vector 2: [[0.63772381 0.82781449 0.47907014 0.86941766 0.31287737 0.39750128\n",
      "  0.10445334 0.60957152]]\n",
      "Correlation between the two vectors: -0.3343813706331778\n"
     ]
    }
   ],
   "source": [
    "import numpy as np\n",
    "\n",
    "def compute_correlation(vector1, vector2):\n",
    "    correlation = np.corrcoef(vector1, vector2)\n",
    "    return correlation[0, 1]  # Extracting the correlation value between vector1 and vector2\n",
    "\n",
    "# Example usage\n",
    "N = 8  # Dimensionality of the vectors\n",
    "vector1 = np.random.rand(1, N)  # Generating a random vector 1\n",
    "vector2 = np.random.rand(1, N)  # Generating a random vector 2\n",
    "correlation = compute_correlation(vector1, vector2)\n",
    "\n",
    "print(\"Vector 1:\", vector1)\n",
    "print(\"Vector 2:\", vector2)\n",
    "print(\"Correlation between the two vectors:\", correlation)\n"
   ]
  },
  {
   "cell_type": "code",
   "execution_count": 4,
   "id": "1cd5d9fd",
   "metadata": {},
   "outputs": [
    {
     "name": "stdout",
     "output_type": "stream",
     "text": [
      "Data Matrix:\n",
      "[[0.3202182  0.20481669 0.85285836 0.85016359 0.6663282 ]\n",
      " [0.39645335 0.85176315 0.45701165 0.56129468 0.06597469]\n",
      " [0.30575352 0.96281515 0.38613561 0.72228336 0.20952507]]\n",
      "\n",
      "Covariance Matrix:\n",
      "[[ 0.09078385 -0.03447575 -0.02979346]\n",
      " [-0.03447575  0.0807077   0.08260155]\n",
      " [-0.02979346  0.08260155  0.09929584]]\n",
      "\n",
      "Correlation Matrix:\n",
      "[[ 1.         -0.40276517 -0.31379864]\n",
      " [-0.40276517  1.          0.92270993]\n",
      " [-0.31379864  0.92270993  1.        ]]\n"
     ]
    }
   ],
   "source": [
    "import numpy as np\n",
    "\n",
    "def compute_covariance_matrix(data_matrix):\n",
    "    covariance_matrix = np.cov(data_matrix)\n",
    "    return covariance_matrix\n",
    "\n",
    "def compute_correlation_matrix(data_matrix):\n",
    "    correlation_matrix = np.corrcoef(data_matrix)\n",
    "    return correlation_matrix\n",
    "\n",
    "# Example usage\n",
    "M = 3  # Dimensionality of the feature vector\n",
    "N = 5  # Number of samples\n",
    "data_matrix = np.random.rand(M, N)  # Generating a random data matrix\n",
    "\n",
    "covariance_matrix = compute_covariance_matrix(data_matrix)\n",
    "correlation_matrix = compute_correlation_matrix(data_matrix)\n",
    "\n",
    "print(\"Data Matrix:\")\n",
    "print(data_matrix)\n",
    "print(\"\\nCovariance Matrix:\")\n",
    "print(covariance_matrix)\n",
    "print(\"\\nCorrelation Matrix:\")\n",
    "print(correlation_matrix)\n"
   ]
  }
 ],
 "metadata": {
  "kernelspec": {
   "display_name": "Python 3 (ipykernel)",
   "language": "python",
   "name": "python3"
  },
  "language_info": {
   "codemirror_mode": {
    "name": "ipython",
    "version": 3
   },
   "file_extension": ".py",
   "mimetype": "text/x-python",
   "name": "python",
   "nbconvert_exporter": "python",
   "pygments_lexer": "ipython3",
   "version": "3.7.5"
  }
 },
 "nbformat": 4,
 "nbformat_minor": 5
}
